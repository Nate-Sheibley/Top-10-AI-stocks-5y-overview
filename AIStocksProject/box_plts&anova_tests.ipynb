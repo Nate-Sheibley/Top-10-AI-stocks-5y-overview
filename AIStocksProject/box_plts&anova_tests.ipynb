{
 "cells": [
  {
   "cell_type": "code",
   "execution_count": 1,
   "metadata": {},
   "outputs": [],
   "source": [
    "import pandas as pd\n",
    "import numpy as np\n",
    "import matplotlib.pyplot as plt\n",
    "import scipy.stats as st"
   ]
  },
  {
   "cell_type": "code",
   "execution_count": 2,
   "metadata": {},
   "outputs": [],
   "source": [
    "#path for data\n",
    "daily_master_path = 'Resources/daily_returns_master.csv'\n",
    "daily_stats_path = 'Resources/average_daily_statistics.csv'\n",
    "yearly_stats_path = 'Resources/average_yearly_statistics.csv'\n",
    "yearly_master_path = 'Resources/yearly_returns_master.csv'\n",
    "kaggle_clean_path = 'Resources/kaggle_clean.csv'\n",
    "#load data into pandas\n",
    "daily_master_df = pd.read_csv(daily_master_path)\n",
    "daily_stats_df = pd.read_csv(daily_stats_path)\n",
    "yearly_stats_df = pd.read_csv(yearly_stats_path)\n",
    "yearly_master_df = pd.read_csv(yearly_master_path)\n",
    "kaggle_clean_df = pd.read_csv(kaggle_clean_path)"
   ]
  },
  {
   "cell_type": "code",
   "execution_count": 3,
   "metadata": {},
   "outputs": [],
   "source": [
    "#Generate symbol list for each classification\n",
    "symbols = daily_master_df['symbol'].unique()\n",
    "ai_symbols = kaggle_clean_df['symbol'].unique()\n",
    "index_symbols = np.array([sym for sym in symbols if sym not in ai_symbols])"
   ]
  },
  {
   "cell_type": "code",
   "execution_count": 4,
   "metadata": {},
   "outputs": [
    {
     "data": {
      "text/html": [
       "<div>\n",
       "<style scoped>\n",
       "    .dataframe tbody tr th:only-of-type {\n",
       "        vertical-align: middle;\n",
       "    }\n",
       "\n",
       "    .dataframe tbody tr th {\n",
       "        vertical-align: top;\n",
       "    }\n",
       "\n",
       "    .dataframe thead th {\n",
       "        text-align: right;\n",
       "    }\n",
       "</style>\n",
       "<table border=\"1\" class=\"dataframe\">\n",
       "  <thead>\n",
       "    <tr style=\"text-align: right;\">\n",
       "      <th></th>\n",
       "      <th>daily_return</th>\n",
       "    </tr>\n",
       "  </thead>\n",
       "  <tbody>\n",
       "    <tr>\n",
       "      <th>4792</th>\n",
       "      <td>NaN</td>\n",
       "    </tr>\n",
       "    <tr>\n",
       "      <th>4793</th>\n",
       "      <td>-0.016466</td>\n",
       "    </tr>\n",
       "    <tr>\n",
       "      <th>4794</th>\n",
       "      <td>-0.007758</td>\n",
       "    </tr>\n",
       "    <tr>\n",
       "      <th>4795</th>\n",
       "      <td>0.011317</td>\n",
       "    </tr>\n",
       "    <tr>\n",
       "      <th>4796</th>\n",
       "      <td>-0.006104</td>\n",
       "    </tr>\n",
       "    <tr>\n",
       "      <th>...</th>\n",
       "      <td>...</td>\n",
       "    </tr>\n",
       "    <tr>\n",
       "      <th>6094</th>\n",
       "      <td>-0.005571</td>\n",
       "    </tr>\n",
       "    <tr>\n",
       "      <th>6095</th>\n",
       "      <td>-0.022237</td>\n",
       "    </tr>\n",
       "    <tr>\n",
       "      <th>6096</th>\n",
       "      <td>-0.011806</td>\n",
       "    </tr>\n",
       "    <tr>\n",
       "      <th>6097</th>\n",
       "      <td>0.014758</td>\n",
       "    </tr>\n",
       "    <tr>\n",
       "      <th>6098</th>\n",
       "      <td>0.004848</td>\n",
       "    </tr>\n",
       "  </tbody>\n",
       "</table>\n",
       "<p>1307 rows × 1 columns</p>\n",
       "</div>"
      ],
      "text/plain": [
       "      daily_return\n",
       "4792           NaN\n",
       "4793     -0.016466\n",
       "4794     -0.007758\n",
       "4795      0.011317\n",
       "4796     -0.006104\n",
       "...            ...\n",
       "6094     -0.005571\n",
       "6095     -0.022237\n",
       "6096     -0.011806\n",
       "6097      0.014758\n",
       "6098      0.004848\n",
       "\n",
       "[1307 rows x 1 columns]"
      ]
     },
     "execution_count": 4,
     "metadata": {},
     "output_type": "execute_result"
    }
   ],
   "source": [
    "daily_master_df[daily_master_df['symbol'].eq('DOW')][['daily_return']]"
   ]
  },
  {
   "cell_type": "code",
   "execution_count": 5,
   "metadata": {},
   "outputs": [],
   "source": [
    "#segment dataframes for each box plot\n",
    "# daily_master_df has all\n",
    "ai_daily = daily_master_df[daily_master_df['symbol'].isin(ai_symbols)]\n",
    "index_daily = daily_master_df[daily_master_df['symbol'].isin(index_symbols)]\n"
   ]
  },
  {
   "cell_type": "markdown",
   "metadata": {},
   "source": [
    "# Make boxplot for all years"
   ]
  },
  {
   "cell_type": "code",
   "execution_count": 10,
   "metadata": {},
   "outputs": [
    {
     "name": "stdout",
     "output_type": "stream",
     "text": [
      "<class 'pandas.core.series.Series'>\n",
      "(1306,)\n",
      "<class 'pandas.core.series.Series'>\n",
      "(1306,)\n",
      "<class 'pandas.core.series.Series'>\n",
      "(1306,)\n",
      "<class 'pandas.core.series.Series'>\n",
      "(12098,)\n"
     ]
    },
    {
     "name": "stderr",
     "output_type": "stream",
     "text": [
      "/tmp/ipykernel_26912/2672898087.py:3: SettingWithCopyWarning: \n",
      "A value is trying to be set on a copy of a slice from a DataFrame.\n",
      "Try using .loc[row_indexer,col_indexer] = value instead\n",
      "\n",
      "See the caveats in the documentation: https://pandas.pydata.org/pandas-docs/stable/user_guide/indexing.html#returning-a-view-versus-a-copy\n",
      "  ai_companies_daily_returns['symbol'] = 'AI companies'\n",
      "/tmp/ipykernel_26912/2672898087.py:19: SettingWithCopyWarning: \n",
      "A value is trying to be set on a copy of a slice from a DataFrame\n",
      "\n",
      "See the caveats in the documentation: https://pandas.pydata.org/pandas-docs/stable/user_guide/indexing.html#returning-a-view-versus-a-copy\n",
      "  data.dropna(inplace=True)\n"
     ]
    }
   ],
   "source": [
    "# make a list of daily returns for all ai companies - undifferentiated\n",
    "ai_companies_daily_returns = ai_daily[['daily_return']]\n",
    "ai_companies_daily_returns['symbol'] = 'AI companies'\n",
    "# make a list of df that contain each index ETFs\n",
    "# List comprehenstion selects all columns for a given symbol in index_symbols,\n",
    "#   Then selects only the daily_return column as a pandas series\n",
    "            #first draft attempt before turning into list comprehension\n",
    "            # box_plot_list = []\n",
    "            # for sym in index_symbols:\n",
    "            #     temp_df = index_daily[index_daily['symbol'].eq(sym)]['daily_return']\n",
    "            #     box_plot_list.append(temp_df)\n",
    "box_plot_list = [index_daily[index_daily['symbol'].eq(sym)]['daily_return'] for sym in index_symbols]\n",
    "# Add ai companies in general to list to make box plot\n",
    "box_plot_list.append(ai_companies_daily_returns['daily_return'])\n",
    "#make a list of labels in the same order as the box plot data\n",
    "box_plot_labels = np.append(index_symbols, 'AI companies')\n",
    "#drop NA (first row in each stock) as boxplot does not handle na values gracefully\n",
    "for data in box_plot_list:\n",
    "    data.dropna(inplace=True)\n",
    "    print(type(data))\n",
    "    print(data.shape)"
   ]
  },
  {
   "cell_type": "code",
   "execution_count": 11,
   "metadata": {},
   "outputs": [
    {
     "data": {
      "text/plain": [
       "Text(0, 0.5, 'Daily Returns (USD)')"
      ]
     },
     "execution_count": 11,
     "metadata": {},
     "output_type": "execute_result"
    },
    {
     "data": {
      "image/png": "[encoded data removed]",
      "text/plain": [
       "<Figure size 640x480 with 1 Axes>"
      ]
     },
     "metadata": {},
     "output_type": "display_data"
    }
   ],
   "source": [
    "box_plot, ax = plt.subplots()\n",
    "ax.boxplot(box_plot_list, tick_labels=box_plot_labels)\n",
    "ax.set_ylabel('Daily Returns (USD)')"
   ]
  },
  {
   "cell_type": "markdown",
   "metadata": {},
   "source": [
    "# Make boxplots grouped by year"
   ]
  },
  {
   "cell_type": "code",
   "execution_count": null,
   "metadata": {},
   "outputs": [],
   "source": [
    "# make a list of daily returns for all ai companies - undifferentiated\n",
    "#group by year, make 5 plots\n",
    "ai_companies_daily_returns = ai_daily.groupbyai_daily[['daily_return']]\n",
    "ai_companies_daily_returns['symbol'] = 'AI companies'\n",
    "# make a list of df that contain each index ETFs\n",
    "# List comprehenstion selects all columns for a given symbol in index_symbols,\n",
    "#   Then selects only the daily_return column as a pandas series\n",
    "box_plot_list = [index_daily[index_daily['symbol'].eq(sym)]['daily_return'] for sym in index_symbols]\n",
    "# Add ai companies in general to list to make box plot\n",
    "box_plot_list.append(ai_companies_daily_returns['daily_return'])\n",
    "#make a list of labels in the same order as the box plot data\n",
    "box_plot_labels = np.append(index_symbols, 'AI companies')\n",
    "#drop NA (first row in each stock) as boxplot does not handle na values gracefully\n",
    "for data in box_plot_list:\n",
    "    data.dropna(inplace=True)\n",
    "    print(type(data))\n",
    "    print(data.shape)"
   ]
  },
  {
   "cell_type": "code",
   "execution_count": 20,
   "metadata": {},
   "outputs": [
    {
     "name": "stderr",
     "output_type": "stream",
     "text": [
      "/tmp/ipykernel_26912/1669661283.py:2: SettingWithCopyWarning: \n",
      "A value is trying to be set on a copy of a slice from a DataFrame.\n",
      "Try using .loc[row_indexer,col_indexer] = value instead\n",
      "\n",
      "See the caveats in the documentation: https://pandas.pydata.org/pandas-docs/stable/user_guide/indexing.html#returning-a-view-versus-a-copy\n",
      "  ai_daily['date'] = pd.to_datetime(ai_daily['date'])\n",
      "/tmp/ipykernel_26912/1669661283.py:3: SettingWithCopyWarning: \n",
      "A value is trying to be set on a copy of a slice from a DataFrame.\n",
      "Try using .loc[row_indexer,col_indexer] = value instead\n",
      "\n",
      "See the caveats in the documentation: https://pandas.pydata.org/pandas-docs/stable/user_guide/indexing.html#returning-a-view-versus-a-copy\n",
      "  ai_daily['year'] = ai_daily['date'].dt.year\n"
     ]
    }
   ],
   "source": [
    "#Generate a yea column to group by\n",
    "ai_daily['date'] = pd.to_datetime(ai_daily['date'])\n",
    "ai_daily['year'] = ai_daily['date'].dt.year\n",
    "\n",
    "#process the ai data by year to generate a list of daily returns for each year.\n",
    "ai_comps_dr_grouped_year = ai_daily.groupby('year')\n",
    "grp_name_yrs = ai_comps_dr_grouped_year.groups.keys()\n",
    "years_titles = list(grp_name_yrs)\n",
    "years_data_ai = []\n",
    "for year in years_titles:\n",
    "    temp_df = ai_comps_dr_grouped_year.get_group(year)\n",
    "    years_data_ai.append(temp_df)"
   ]
  },
  {
   "cell_type": "code",
   "execution_count": 22,
   "metadata": {},
   "outputs": [
    {
     "name": "stderr",
     "output_type": "stream",
     "text": [
      "/tmp/ipykernel_26912/2951789396.py:2: SettingWithCopyWarning: \n",
      "A value is trying to be set on a copy of a slice from a DataFrame.\n",
      "Try using .loc[row_indexer,col_indexer] = value instead\n",
      "\n",
      "See the caveats in the documentation: https://pandas.pydata.org/pandas-docs/stable/user_guide/indexing.html#returning-a-view-versus-a-copy\n",
      "  index_daily['date'] = pd.to_datetime(index_daily['date'])\n",
      "/tmp/ipykernel_26912/2951789396.py:3: SettingWithCopyWarning: \n",
      "A value is trying to be set on a copy of a slice from a DataFrame.\n",
      "Try using .loc[row_indexer,col_indexer] = value instead\n",
      "\n",
      "See the caveats in the documentation: https://pandas.pydata.org/pandas-docs/stable/user_guide/indexing.html#returning-a-view-versus-a-copy\n",
      "  index_daily['year'] = index_daily['date'].dt.year\n"
     ]
    },
    {
     "data": {
      "text/plain": [
       "[(2019, 'DOW'),\n",
       " (2019, 'INDU'),\n",
       " (2019, 'SPY'),\n",
       " (2020, 'DOW'),\n",
       " (2020, 'INDU'),\n",
       " (2020, 'SPY'),\n",
       " (2021, 'DOW'),\n",
       " (2021, 'INDU'),\n",
       " (2021, 'SPY'),\n",
       " (2022, 'DOW'),\n",
       " (2022, 'INDU'),\n",
       " (2022, 'SPY'),\n",
       " (2023, 'DOW'),\n",
       " (2023, 'INDU'),\n",
       " (2023, 'SPY'),\n",
       " (2024, 'DOW'),\n",
       " (2024, 'INDU'),\n",
       " (2024, 'SPY')]"
      ]
     },
     "execution_count": 22,
     "metadata": {},
     "output_type": "execute_result"
    }
   ],
   "source": [
    "#Generate a yea column to group by\n",
    "index_daily['date'] = pd.to_datetime(index_daily['date'])\n",
    "index_daily['year'] = index_daily['date'].dt.year\n",
    "\n",
    "#process the ai data by year to generate a list of daily returns for each year.\n",
    "index_dr_grouped_year_sym = index_daily.groupby(['year', 'symbol'])\n",
    "idx_grp_names = index_dr_grouped_year_sym.groups.keys()\n",
    "year_sym_titles = list(idx_grp_names)\n",
    "year_sym_titles"
   ]
  },
  {
   "cell_type": "code",
   "execution_count": 23,
   "metadata": {},
   "outputs": [],
   "source": [
    "#collect each index ETF data grouped by years into seperate lists\n",
    "years_data_SPY = []\n",
    "years_data_DOW = []\n",
    "years_data_INDU = []\n",
    "\n",
    "for label in year_sym_titles:\n",
    "    # temp_df = ai_comps_dr_grouped_year.get_group(year)\n",
    "    # years_data_ai.append(temp_df)\n",
    "    temp_df = index_dr_grouped_year_sym.get_group(label)\n",
    "    if 'SPY' in label:\n",
    "        years_data_SPY.append(temp_df)\n",
    "    elif 'DOW' in label:\n",
    "        years_data_DOW.append(temp_df)\n",
    "    elif 'INDU' in label:\n",
    "        years_data_INDU.append(temp_df)\n"
   ]
  },
  {
   "cell_type": "code",
   "execution_count": 24,
   "metadata": {},
   "outputs": [
    {
     "data": {
      "text/plain": [
       "6"
      ]
     },
     "execution_count": 24,
     "metadata": {},
     "output_type": "execute_result"
    }
   ],
   "source": [
    "len(years_data_DOW)"
   ]
  },
  {
   "cell_type": "code",
   "execution_count": null,
   "metadata": {},
   "outputs": [],
   "source": []
  }
 ],
 "metadata": {
  "kernelspec": {
   "display_name": ".venv",
   "language": "python",
   "name": "python3"
  },
  "language_info": {
   "codemirror_mode": {
    "name": "ipython",
    "version": 3
   },
   "file_extension": ".py",
   "mimetype": "text/x-python",
   "name": "python",
   "nbconvert_exporter": "python",
   "pygments_lexer": "ipython3",
   "version": "3.12.3"
  }
 },
 "nbformat": 4,
 "nbformat_minor": 2
}
